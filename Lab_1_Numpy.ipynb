{
  "cells": [
    {
      "cell_type": "markdown",
      "metadata": {
        "id": "E2SHh8ajMtzi"
      },
      "source": [
        "## 1. Installation"
      ]
    },
    {
      "cell_type": "markdown",
      "metadata": {
        "id": "wkYQcaJLMtzi"
      },
      "source": [
        "pip install numpy"
      ]
    },
    {
      "cell_type": "markdown",
      "metadata": {
        "id": "9h73dMUFMtzj"
      },
      "source": [
        "## 2. Motivation"
      ]
    },
    {
      "cell_type": "markdown",
      "metadata": {
        "id": "PtbMBRDJMtzk"
      },
      "source": [
        "### creating array in numpy"
      ]
    },
    {
      "cell_type": "code",
      "execution_count": null,
      "metadata": {
        "colab": {
          "base_uri": "https://localhost:8080/"
        },
        "id": "Fia2xeCvMtzk",
        "outputId": "f5d04443-c9e2-4391-8be7-22a2a2dace74"
      },
      "outputs": [
        {
          "output_type": "stream",
          "name": "stdout",
          "text": [
            "[0 1 2 3 4 5 6 7 8 9]\n",
            "[1 2 3 4 5]\n"
          ]
        }
      ],
      "source": [
        "import numpy as np\n",
        "\n",
        "a = np.arange(10) #using arange function\n",
        "print(a)\n",
        "\n",
        "b = np.array([1,2,3,4,5]) #creating array from list\n",
        "print(b)"
      ]
    },
    {
      "cell_type": "markdown",
      "metadata": {
        "id": "gGdGsz0aMtzl"
      },
      "source": [
        "### why to use numpy ?"
      ]
    },
    {
      "cell_type": "code",
      "execution_count": null,
      "metadata": {
        "colab": {
          "base_uri": "https://localhost:8080/"
        },
        "id": "xtO4hPlFMtzm",
        "outputId": "d38862eb-873f-4cf4-c971-e267573d40bb"
      },
      "outputs": [
        {
          "output_type": "stream",
          "name": "stdout",
          "text": [
            "695 µs ± 95 µs per loop (mean ± std. dev. of 7 runs, 1000 loops each)\n"
          ]
        }
      ],
      "source": [
        "L = range(1000)\n",
        "%timeit [i**2 for i in L]"
      ]
    },
    {
      "cell_type": "code",
      "execution_count": null,
      "metadata": {
        "colab": {
          "base_uri": "https://localhost:8080/"
        },
        "id": "otGj11eJMtzm",
        "outputId": "719ad1f7-741e-4668-ec05-7269f01d7472"
      },
      "outputs": [
        {
          "output_type": "stream",
          "name": "stdout",
          "text": [
            "3.04 µs ± 787 ns per loop (mean ± std. dev. of 7 runs, 100000 loops each)\n"
          ]
        }
      ],
      "source": [
        "A = np.arange(1000)\n",
        "%timeit A**2"
      ]
    },
    {
      "cell_type": "code",
      "execution_count": null,
      "metadata": {
        "colab": {
          "base_uri": "https://localhost:8080/"
        },
        "id": "TzCfp44VMtzm",
        "outputId": "bfd9b6dc-8f17-4f94-f1d0-e4bce84ae3c5"
      },
      "outputs": [
        {
          "output_type": "stream",
          "name": "stdout",
          "text": [
            "Numpy implementation is 217.6 times faster than lists implementation\n"
          ]
        }
      ],
      "source": [
        "print(\"Numpy implementation is {0} times faster than lists implementation\".format(272/1.25))"
      ]
    },
    {
      "cell_type": "markdown",
      "metadata": {
        "id": "aY_ZAx9KMtzn"
      },
      "source": [
        "## 3. Creating arrays"
      ]
    },
    {
      "cell_type": "markdown",
      "metadata": {
        "id": "8xpg2x2vMtzn"
      },
      "source": [
        "### 3.1. Manual construction of the arrays"
      ]
    },
    {
      "cell_type": "code",
      "execution_count": null,
      "metadata": {
        "id": "UeSf1EC3Mtzn"
      },
      "outputs": [],
      "source": [
        "#create 1 - D array #vector\n",
        "a = np.array([1,2,3,4,5])\n",
        "\n",
        "a"
      ]
    },
    {
      "cell_type": "code",
      "execution_count": null,
      "metadata": {
        "id": "nM_c_r_-Mtzo"
      },
      "outputs": [],
      "source": [
        "#print dimensions\n",
        "a.ndim"
      ]
    },
    {
      "cell_type": "code",
      "execution_count": null,
      "metadata": {
        "id": "TxOVnKHhMtzo"
      },
      "outputs": [],
      "source": [
        "#print shape\n",
        "a.shape"
      ]
    },
    {
      "cell_type": "code",
      "execution_count": null,
      "metadata": {
        "id": "nQSFe5klMtzo"
      },
      "outputs": [],
      "source": [
        "len(a)"
      ]
    },
    {
      "cell_type": "code",
      "execution_count": null,
      "metadata": {
        "id": "CaLzhrc0Mtzp"
      },
      "outputs": [],
      "source": [
        "#create 2-D array #matrix\n",
        "\n",
        "b = np.array([[1,2,3],[4,5,6]]) #list of lists\n",
        "\n",
        "b"
      ]
    },
    {
      "cell_type": "code",
      "execution_count": null,
      "metadata": {
        "id": "BE3g_BYQMtzp"
      },
      "outputs": [],
      "source": [
        "b.ndim"
      ]
    },
    {
      "cell_type": "code",
      "execution_count": null,
      "metadata": {
        "id": "X1Z8CAE4Mtzp"
      },
      "outputs": [],
      "source": [
        "b.shape"
      ]
    },
    {
      "cell_type": "code",
      "execution_count": null,
      "metadata": {
        "id": "rGtqktrnMtzq"
      },
      "outputs": [],
      "source": [
        "len(b) #size of first dimension or number of rows"
      ]
    },
    {
      "cell_type": "code",
      "execution_count": null,
      "metadata": {
        "id": "hLEeqPoHMtzq"
      },
      "outputs": [],
      "source": [
        "#create 3 - D array #tensors\n",
        "\n",
        "c = np.array([[[0,1],[2,3]],[[4,5],[6,7]]])\n",
        "\n",
        "c"
      ]
    },
    {
      "cell_type": "code",
      "execution_count": null,
      "metadata": {
        "id": "IQbgZqi_Mtzq"
      },
      "outputs": [],
      "source": [
        "c.ndim"
      ]
    },
    {
      "cell_type": "code",
      "execution_count": null,
      "metadata": {
        "id": "DnvrwgDXMtzq"
      },
      "outputs": [],
      "source": [
        "c.shape"
      ]
    },
    {
      "cell_type": "code",
      "execution_count": null,
      "metadata": {
        "id": "o6bT9fOQMtzr"
      },
      "outputs": [],
      "source": [
        "len(c)"
      ]
    },
    {
      "cell_type": "markdown",
      "metadata": {
        "id": "W4ozgmp3Mtzr"
      },
      "source": [
        "### 3.2. Functions for creating arrays"
      ]
    },
    {
      "cell_type": "code",
      "execution_count": null,
      "metadata": {
        "id": "534IoO11Mtzr"
      },
      "outputs": [],
      "source": [
        "#using arange function\n",
        "\n",
        "a = np.arange(10)\n",
        "\n",
        "a"
      ]
    },
    {
      "cell_type": "code",
      "execution_count": null,
      "metadata": {
        "id": "768q3eLfMtzs"
      },
      "outputs": [],
      "source": [
        "b = np.arange(1,10,2) #start, end, step\n",
        "\n",
        "b"
      ]
    },
    {
      "cell_type": "code",
      "execution_count": null,
      "metadata": {
        "id": "PnpIS8k8Mtzs"
      },
      "outputs": [],
      "source": [
        "#using linspace #linearspace\n",
        "\n",
        "c = np.linspace(5, 10, 5) #start, end, number of points\n",
        "\n",
        "c"
      ]
    },
    {
      "cell_type": "code",
      "execution_count": null,
      "metadata": {
        "id": "aCobu3myMtzs"
      },
      "outputs": [],
      "source": [
        "#common arrays\n",
        "\n",
        "d = np.ones((3,3))\n",
        "\n",
        "d"
      ]
    },
    {
      "cell_type": "code",
      "execution_count": null,
      "metadata": {
        "id": "KOxU5VKYMtzs"
      },
      "outputs": [],
      "source": [
        "x = np.zeros((3,3))\n",
        "\n",
        "x"
      ]
    },
    {
      "cell_type": "code",
      "execution_count": null,
      "metadata": {
        "id": "4uOk67m9Mtzt"
      },
      "outputs": [],
      "source": [
        "y = np.eye(3) #creates a matrix with 1 as the diagonals and 0 as non-diagonal elements\n",
        "\n",
        "y"
      ]
    },
    {
      "cell_type": "code",
      "execution_count": null,
      "metadata": {
        "id": "-HwAfjeUMtzt"
      },
      "outputs": [],
      "source": [
        "z = np.eye(3,2)\n",
        "\n",
        "z"
      ]
    },
    {
      "cell_type": "code",
      "execution_count": null,
      "metadata": {
        "id": "NESGpWCxMtzt"
      },
      "outputs": [],
      "source": [
        "a = np.diag([1,2,3,4]) #construct a diagonal array\n",
        "\n",
        "print(a)"
      ]
    },
    {
      "cell_type": "code",
      "execution_count": null,
      "metadata": {
        "id": "_HAVSXbTMtzu"
      },
      "outputs": [],
      "source": [
        "np.diag(a) #extracts the diagonal elements of matrix a"
      ]
    },
    {
      "cell_type": "code",
      "execution_count": null,
      "metadata": {
        "id": "ebiaZ_TMMtzu"
      },
      "outputs": [],
      "source": [
        "#creates a array using random\n",
        "a = np.random.rand(4)\n",
        "\n",
        "print(a)"
      ]
    },
    {
      "cell_type": "markdown",
      "metadata": {
        "id": "vxfO3qBMMtzu"
      },
      "source": [
        "## 4. Datatypes"
      ]
    },
    {
      "cell_type": "code",
      "execution_count": null,
      "metadata": {
        "id": "6b6aKR0QMtzv"
      },
      "outputs": [],
      "source": [
        "#we can explicitly specify the required data type\n",
        "a = np.arange(10, dtype='float')\n",
        "\n",
        "print(a)"
      ]
    },
    {
      "cell_type": "code",
      "execution_count": null,
      "metadata": {
        "id": "MTRa_nzyMtzx"
      },
      "outputs": [],
      "source": [
        "b = np.array([1+2j, 5+1j])\n",
        "\n",
        "print(b.dtype)"
      ]
    },
    {
      "cell_type": "code",
      "execution_count": null,
      "metadata": {
        "id": "EnK4YBIIMtzx"
      },
      "outputs": [],
      "source": [
        "c = np.array([True, False, True])\n",
        "\n",
        "print(c.dtype)"
      ]
    },
    {
      "cell_type": "markdown",
      "metadata": {
        "id": "wotPm1FHMtzy"
      },
      "source": [
        "## 5. Indexing and slicing"
      ]
    },
    {
      "cell_type": "markdown",
      "metadata": {
        "id": "OoZExuHOMtzy"
      },
      "source": [
        "### 5.1. Indexing"
      ]
    },
    {
      "cell_type": "code",
      "execution_count": null,
      "metadata": {
        "id": "gTN3X7DaMtzz"
      },
      "outputs": [],
      "source": [
        "a = np.arange(10)\n",
        "\n",
        "#print(a)\n",
        "print(a[5])\n",
        "print(a[-1])"
      ]
    },
    {
      "cell_type": "code",
      "execution_count": null,
      "metadata": {
        "id": "63W9GqF5Mtzz"
      },
      "outputs": [],
      "source": [
        "b = np.diag([1,2,3])\n",
        "\n",
        "#print(b)\n",
        "print(b[2,2])"
      ]
    },
    {
      "cell_type": "code",
      "execution_count": null,
      "metadata": {
        "id": "H9dRXLgEMtz0"
      },
      "outputs": [],
      "source": [
        "b[2,1] = 10 #asigning value to a index\n",
        "\n",
        "print(b)"
      ]
    },
    {
      "cell_type": "markdown",
      "metadata": {
        "id": "AWyokd32Mtz1"
      },
      "source": [
        "### 5.2. Slicing"
      ]
    },
    {
      "cell_type": "code",
      "execution_count": null,
      "metadata": {
        "id": "DQa_Rs_nMtz1"
      },
      "outputs": [],
      "source": [
        "a = np.arange(10)\n",
        "\n",
        "print(a[1:10:2]) #[start_value: end_value(exclusive): step]"
      ]
    },
    {
      "cell_type": "code",
      "execution_count": null,
      "metadata": {
        "id": "0wXO0lEqMtz2"
      },
      "outputs": [],
      "source": [
        "b = np.arange(10)\n",
        "\n",
        "b[5:] = 10 #assign 10 from index 5 to end\n",
        "\n",
        "print(b)"
      ]
    },
    {
      "cell_type": "code",
      "execution_count": null,
      "metadata": {
        "id": "dDHGzVGNMtz2"
      },
      "outputs": [],
      "source": [
        "c = np.arange(5)\n",
        "\n",
        "b[5:] = c[::-1] #assign in reverse order\n",
        "\n",
        "print(b)"
      ]
    },
    {
      "cell_type": "markdown",
      "metadata": {
        "id": "Xx2yAccmMtz3"
      },
      "source": [
        "## 6. Copies and views"
      ]
    },
    {
      "cell_type": "markdown",
      "metadata": {
        "id": "mEUI7Mf5Mtz3"
      },
      "source": [
        "Slicing operation creates a view on the original array which is just a way of accessing the data. Thus, the original array is not copied in the memory. You can use <strong>np.may_share_memory()</strong> to check whether two arrays share the same memory block."
      ]
    },
    {
      "cell_type": "code",
      "execution_count": null,
      "metadata": {
        "id": "37D7gm-aMtz4"
      },
      "outputs": [],
      "source": [
        "a = np.arange(10)\n",
        "\n",
        "b = a[::2]\n",
        "\n",
        "np.shares_memory(a,b)"
      ]
    },
    {
      "cell_type": "code",
      "execution_count": null,
      "metadata": {
        "id": "ul-c8T3gMtz4"
      },
      "outputs": [],
      "source": [
        "b[0] = 10\n",
        "\n",
        "print(b)\n",
        "print(a) #a is also updated, since is shares the same location in memory"
      ]
    },
    {
      "cell_type": "code",
      "execution_count": null,
      "metadata": {
        "id": "aeW5arDZMtz5"
      },
      "outputs": [],
      "source": [
        "c = a[::2].copy() #force the copy\n",
        "\n",
        "np.shares_memory(a,c)"
      ]
    },
    {
      "cell_type": "code",
      "execution_count": null,
      "metadata": {
        "id": "T2FruMBZMtz5"
      },
      "outputs": [],
      "source": [
        "c[0] = 5\n",
        "\n",
        "print(c)\n",
        "print(a)"
      ]
    },
    {
      "cell_type": "markdown",
      "metadata": {
        "id": "A0ud4ptAMtz6"
      },
      "source": [
        "## 7. Fancy Indexing"
      ]
    },
    {
      "cell_type": "markdown",
      "metadata": {
        "id": "I3j3PGDbMtz7"
      },
      "source": [
        "### 7.1 Using Boolean mask"
      ]
    },
    {
      "cell_type": "code",
      "execution_count": null,
      "metadata": {
        "id": "pNqFksFRMtz7"
      },
      "outputs": [],
      "source": [
        "a = np.random.randint(0,20,15)\n",
        "\n",
        "print(a)"
      ]
    },
    {
      "cell_type": "code",
      "execution_count": null,
      "metadata": {
        "id": "qY9SOIGeMtz8"
      },
      "outputs": [],
      "source": [
        "mask = (a % 2 == 0)"
      ]
    },
    {
      "cell_type": "code",
      "execution_count": null,
      "metadata": {
        "id": "6VUcHHPWMtz9"
      },
      "outputs": [],
      "source": [
        "even_numbers = a[mask]\n",
        "\n",
        "print(even_numbers)"
      ]
    },
    {
      "cell_type": "code",
      "execution_count": null,
      "metadata": {
        "id": "3jfTlx3pMtz9"
      },
      "outputs": [],
      "source": [
        "a[mask]=-1 #it can be very useful to assign a new value to sub array\n",
        "\n",
        "print(a)"
      ]
    },
    {
      "cell_type": "markdown",
      "metadata": {
        "id": "TNdhfFbFMtz-"
      },
      "source": [
        "### 7.2. Using Integer Array"
      ]
    },
    {
      "cell_type": "code",
      "execution_count": null,
      "metadata": {
        "id": "8HF3hX2FMtz-"
      },
      "outputs": [],
      "source": [
        "a = np.arange(0,100,10)\n",
        "\n",
        "print(a)"
      ]
    },
    {
      "cell_type": "code",
      "execution_count": null,
      "metadata": {
        "id": "dk0XRHH9Mtz_"
      },
      "outputs": [],
      "source": [
        "b = a[[2,3,5,2,4]]\n",
        "\n",
        "print(b)"
      ]
    },
    {
      "cell_type": "code",
      "execution_count": null,
      "metadata": {
        "id": "u-IlHF8-Mtz_"
      },
      "outputs": [],
      "source": [
        "a[[9,7]] = -200\n",
        "\n",
        "print(a)\n",
        "print(b)"
      ]
    },
    {
      "cell_type": "markdown",
      "metadata": {
        "id": "zpsYfb1DMt0A"
      },
      "source": [
        "## 8. Numerical Operations on numpy"
      ]
    },
    {
      "cell_type": "markdown",
      "metadata": {
        "id": "vl373Wl4Mt0A"
      },
      "source": [
        "### 8.1. Element wise operations"
      ]
    },
    {
      "cell_type": "code",
      "execution_count": null,
      "metadata": {
        "id": "xg2gRI1BMt0A"
      },
      "outputs": [],
      "source": [
        "a = np.arange(10)\n",
        "\n",
        "print(a+1)"
      ]
    },
    {
      "cell_type": "code",
      "execution_count": null,
      "metadata": {
        "id": "AgQkwnYCMt0B"
      },
      "outputs": [],
      "source": [
        "print(a ** 2)"
      ]
    },
    {
      "cell_type": "code",
      "execution_count": null,
      "metadata": {
        "id": "bob1evSkMt0B"
      },
      "outputs": [],
      "source": [
        "b = np.ones(10) + 1\n",
        "print(\"b = \", b)\n",
        "\n",
        "print(\"a - b = \",a-b)"
      ]
    },
    {
      "cell_type": "code",
      "execution_count": null,
      "metadata": {
        "id": "WWSJ-LSJMt0C"
      },
      "outputs": [],
      "source": [
        "print(a*b)"
      ]
    },
    {
      "cell_type": "code",
      "execution_count": null,
      "metadata": {
        "id": "oP2PjPZnMt0C"
      },
      "outputs": [],
      "source": [
        "#Matrix Multiplication\n",
        "\n",
        "c = np.diag([1,2,3,4])\n",
        "\n",
        "print(c)\n",
        "print(\"*\"*100)\n",
        "print(c*c)\n",
        "print(\"*\"*100)\n",
        "print(c.dot(c))"
      ]
    },
    {
      "cell_type": "code",
      "execution_count": null,
      "metadata": {
        "id": "nZ9CIjFPMt0D"
      },
      "outputs": [],
      "source": [
        "# element comparisions\n",
        "\n",
        "a = np.array([1,2,5,4])\n",
        "b = np.array([6,2,9,4])\n",
        "\n",
        "print(a==b)"
      ]
    },
    {
      "cell_type": "code",
      "execution_count": null,
      "metadata": {
        "id": "QOwgb7WmMt0F"
      },
      "outputs": [],
      "source": [
        "print(a>b)"
      ]
    },
    {
      "cell_type": "code",
      "execution_count": null,
      "metadata": {
        "id": "kW9Z-GVEMt0G"
      },
      "outputs": [],
      "source": [
        "print(a<b)"
      ]
    },
    {
      "cell_type": "code",
      "execution_count": null,
      "metadata": {
        "id": "LIHHywoLMt0G"
      },
      "outputs": [],
      "source": [
        "print(a<=b)"
      ]
    },
    {
      "cell_type": "code",
      "execution_count": null,
      "metadata": {
        "id": "eV3PHzZoMt0H"
      },
      "outputs": [],
      "source": [
        "#array wise comparision\n",
        "\n",
        "print(np.array_equal(a,b))"
      ]
    },
    {
      "cell_type": "code",
      "execution_count": null,
      "metadata": {
        "id": "h15xHDCRMt0H"
      },
      "outputs": [],
      "source": [
        "c = np.array([1,2,5,4])\n",
        "\n",
        "print(np.array_equal(a,c))"
      ]
    },
    {
      "cell_type": "markdown",
      "metadata": {
        "id": "5YbFl3hfMt0H"
      },
      "source": [
        "#### Logical Operations"
      ]
    },
    {
      "cell_type": "code",
      "execution_count": null,
      "metadata": {
        "id": "_4R8cWrjMt0I"
      },
      "outputs": [],
      "source": [
        "a = np.array([1,0,0,1],dtype='bool')\n",
        "b = np.array([0,1,0,1],dtype='bool')\n",
        "\n",
        "print(np.logical_or(a,b))"
      ]
    },
    {
      "cell_type": "code",
      "execution_count": null,
      "metadata": {
        "id": "OmVQORCHMt0I"
      },
      "outputs": [],
      "source": [
        "print(np.logical_and(a,b))"
      ]
    },
    {
      "cell_type": "code",
      "execution_count": null,
      "metadata": {
        "id": "XpkNPlvhMt0I"
      },
      "outputs": [],
      "source": [
        "print(np.logical_not(a))"
      ]
    },
    {
      "cell_type": "markdown",
      "metadata": {
        "id": "HAK-PBypMt0J"
      },
      "source": [
        "#### Transcendental Functions:"
      ]
    },
    {
      "cell_type": "code",
      "execution_count": null,
      "metadata": {
        "id": "kecms81uMt0J"
      },
      "outputs": [],
      "source": [
        "a = np.arange(5)+1\n",
        "\n",
        "print(np.sin(a))"
      ]
    },
    {
      "cell_type": "code",
      "execution_count": null,
      "metadata": {
        "id": "RmStUp0-Mt0K"
      },
      "outputs": [],
      "source": [
        "print(np.log(a))"
      ]
    },
    {
      "cell_type": "code",
      "execution_count": null,
      "metadata": {
        "id": "27F5-5a-Mt0K"
      },
      "outputs": [],
      "source": [
        "print(np.exp(a))"
      ]
    },
    {
      "cell_type": "markdown",
      "metadata": {
        "id": "wipqWrCpMt0K"
      },
      "source": [
        "#### Shape Mismatch:"
      ]
    },
    {
      "cell_type": "code",
      "execution_count": null,
      "metadata": {
        "id": "Uvb7GqCOMt0L"
      },
      "outputs": [],
      "source": [
        "a = np.array([1,2,3,4])\n",
        "\n",
        "b = np.array([5, 10])\n",
        "\n",
        "print(a+b)"
      ]
    },
    {
      "cell_type": "markdown",
      "metadata": {
        "id": "RMfXJwtVMt0L"
      },
      "source": [
        "### 8.2. Basic Reductions"
      ]
    },
    {
      "cell_type": "code",
      "execution_count": null,
      "metadata": {
        "id": "GVsu5LLtMt0L"
      },
      "outputs": [],
      "source": [
        "x = np.array([1,2,3,4])\n",
        "\n",
        "print(np.sum(x))"
      ]
    },
    {
      "cell_type": "code",
      "execution_count": null,
      "metadata": {
        "id": "YXFy9qSOMt0M"
      },
      "outputs": [],
      "source": [
        "y = np.array([[1,2],[3,4]])\n",
        "\n",
        "print(y)\n",
        "print(\"*\"*100)\n",
        "print(y.T)"
      ]
    },
    {
      "cell_type": "code",
      "execution_count": null,
      "metadata": {
        "id": "MP4KW8aOMt0M"
      },
      "outputs": [],
      "source": [
        "print(y.sum(axis=0)) #column wise sum"
      ]
    },
    {
      "cell_type": "code",
      "execution_count": null,
      "metadata": {
        "id": "H9AGN9sZMt0N"
      },
      "outputs": [],
      "source": [
        "print(y.sum(axis=1)) #row wise sum"
      ]
    },
    {
      "cell_type": "markdown",
      "metadata": {
        "id": "c9DYehPSMt0N"
      },
      "source": [
        "#### other reductions"
      ]
    },
    {
      "cell_type": "code",
      "execution_count": null,
      "metadata": {
        "id": "hf3Cw410Mt0N"
      },
      "outputs": [],
      "source": [
        "print(y.min())"
      ]
    },
    {
      "cell_type": "code",
      "execution_count": null,
      "metadata": {
        "id": "NmyX5EQTMt0O"
      },
      "outputs": [],
      "source": [
        "print(y.max())"
      ]
    },
    {
      "cell_type": "code",
      "execution_count": null,
      "metadata": {
        "id": "vsX7VMhZMt0O"
      },
      "outputs": [],
      "source": [
        "print(y.argmin()) #index of minimum element"
      ]
    },
    {
      "cell_type": "code",
      "execution_count": null,
      "metadata": {
        "id": "J30Xjp0QMt0P"
      },
      "outputs": [],
      "source": [
        "print(y.argmax()) #index of maximum element"
      ]
    },
    {
      "cell_type": "markdown",
      "metadata": {
        "id": "QmoCK_M2Mt0Q"
      },
      "source": [
        "#### Logical reductions"
      ]
    },
    {
      "cell_type": "code",
      "execution_count": null,
      "metadata": {
        "id": "UxGBXYIwMt0R"
      },
      "outputs": [],
      "source": [
        "print(np.all([True, False, False])) #logical and"
      ]
    },
    {
      "cell_type": "code",
      "execution_count": null,
      "metadata": {
        "id": "z7HLldUWMt0S"
      },
      "outputs": [],
      "source": [
        "print(np.any([True, False, False])) #logical or"
      ]
    },
    {
      "cell_type": "code",
      "execution_count": null,
      "metadata": {
        "id": "QukdRDPPMt0S"
      },
      "outputs": [],
      "source": [
        "a = np.zeros((50,50))\n",
        "\n",
        "print(np.any(a!=0)) #checks whether any element in a is not equal to zero"
      ]
    },
    {
      "cell_type": "markdown",
      "metadata": {
        "id": "F1jTAZgtMt0T"
      },
      "source": [
        "#### Statistics"
      ]
    },
    {
      "cell_type": "code",
      "execution_count": null,
      "metadata": {
        "id": "thWFgrv_Mt0U"
      },
      "outputs": [],
      "source": [
        "x = np.arange(1,10)\n",
        "\n",
        "print(np.mean(x))"
      ]
    },
    {
      "cell_type": "code",
      "execution_count": null,
      "metadata": {
        "id": "6bcKZPKGMt0U"
      },
      "outputs": [],
      "source": [
        "print(np.median(x))"
      ]
    },
    {
      "cell_type": "code",
      "execution_count": null,
      "metadata": {
        "id": "Fg8jXNbJMt0V"
      },
      "outputs": [],
      "source": [
        "y = np.array([[1,2,3],[4,5,6]])\n",
        "\n",
        "print(np.mean(y,axis=0)) #column wise mean\n",
        "print(np.mean(y,axis=1)) #row wise mean"
      ]
    },
    {
      "cell_type": "code",
      "execution_count": null,
      "metadata": {
        "id": "wrR-3of4Mt0W"
      },
      "outputs": [],
      "source": [
        "print(np.std(x))"
      ]
    },
    {
      "cell_type": "markdown",
      "metadata": {
        "id": "BbjUfKwGMt0X"
      },
      "source": [
        "#### Example:"
      ]
    },
    {
      "cell_type": "code",
      "execution_count": null,
      "metadata": {
        "id": "IgKUw2ASMt0X"
      },
      "outputs": [],
      "source": [
        "data = np.loadtxt(\"dataset/populations.txt\")"
      ]
    },
    {
      "cell_type": "code",
      "execution_count": null,
      "metadata": {
        "id": "W6z6ibXoMt0X"
      },
      "outputs": [],
      "source": [
        "print(data)"
      ]
    },
    {
      "cell_type": "code",
      "execution_count": null,
      "metadata": {
        "id": "kzjQA2HBMt0Y"
      },
      "outputs": [],
      "source": [
        "data.shape"
      ]
    },
    {
      "cell_type": "code",
      "execution_count": null,
      "metadata": {
        "id": "4Om309h0Mt0Y"
      },
      "outputs": [],
      "source": [
        "year, hare, lynx, carrot = data.T"
      ]
    },
    {
      "cell_type": "code",
      "execution_count": null,
      "metadata": {
        "id": "gbCJeqCmMt0Z"
      },
      "outputs": [],
      "source": [
        "print(year)"
      ]
    },
    {
      "cell_type": "code",
      "execution_count": null,
      "metadata": {
        "id": "dNjNOJHdMt0Z"
      },
      "outputs": [],
      "source": [
        "populations = data[:,1:]"
      ]
    },
    {
      "cell_type": "code",
      "execution_count": null,
      "metadata": {
        "id": "qeOluJWhMt0a"
      },
      "outputs": [],
      "source": [
        "print(populations)"
      ]
    },
    {
      "cell_type": "code",
      "execution_count": null,
      "metadata": {
        "id": "3TorGBoRMt0a"
      },
      "outputs": [],
      "source": [
        "populations.std(axis=0)"
      ]
    },
    {
      "cell_type": "code",
      "execution_count": null,
      "metadata": {
        "id": "VQcgTwrZMt0b"
      },
      "outputs": [],
      "source": [
        "populations.mean(axis=0)"
      ]
    },
    {
      "cell_type": "code",
      "execution_count": null,
      "metadata": {
        "id": "CV2nEdI8Mt0b"
      },
      "outputs": [],
      "source": [
        "#which species has the highest population each year\n",
        "\n",
        "print(np.argmax(populations, axis=1))"
      ]
    },
    {
      "cell_type": "markdown",
      "metadata": {
        "id": "Jbo3aZkLMt0b"
      },
      "source": [
        "## 9. Broadcasting"
      ]
    },
    {
      "cell_type": "code",
      "execution_count": null,
      "metadata": {
        "id": "wWp1nMdeMt0c"
      },
      "outputs": [],
      "source": [
        "from IPython.display import Image\n",
        "\n",
        "Image(\"photos/broadcasting.PNG\")"
      ]
    },
    {
      "cell_type": "code",
      "execution_count": null,
      "metadata": {
        "id": "Sgjy3ANXMt0c"
      },
      "outputs": [],
      "source": [
        "a = np.tile(np.arange(0, 40, 10),(3,1)) #replicate rows 3 times and columns 1 time # change columns\n",
        "print(a)\n",
        "print(\"*\"*100)\n",
        "\n",
        "a = a.T\n",
        "print(a)"
      ]
    },
    {
      "cell_type": "code",
      "execution_count": null,
      "metadata": {
        "id": "5ue0-G4NMt0d"
      },
      "outputs": [],
      "source": [
        "b = np.array([0,1,2])\n",
        "\n",
        "print(b)"
      ]
    },
    {
      "cell_type": "code",
      "execution_count": null,
      "metadata": {
        "id": "NliddMwWMt0d"
      },
      "outputs": [],
      "source": [
        "c = a + b\n",
        "\n",
        "print(c)"
      ]
    },
    {
      "cell_type": "code",
      "execution_count": null,
      "metadata": {
        "id": "Drq6AkRlMt0d"
      },
      "outputs": [],
      "source": [
        "a = np.arange(0,40,10)\n",
        "print(a.shape)"
      ]
    },
    {
      "cell_type": "code",
      "execution_count": null,
      "metadata": {
        "id": "erCs1mAsMt0e"
      },
      "outputs": [],
      "source": [
        "a = a[:, np.newaxis] #adds a new axis\n",
        "print(a.shape)"
      ]
    },
    {
      "cell_type": "code",
      "execution_count": null,
      "metadata": {
        "id": "UC1R06_PMt0e"
      },
      "outputs": [],
      "source": [
        "print(a)"
      ]
    },
    {
      "cell_type": "code",
      "execution_count": null,
      "metadata": {
        "id": "hEUaeYUWMt0f"
      },
      "outputs": [],
      "source": [
        "print(a+b)"
      ]
    },
    {
      "cell_type": "markdown",
      "metadata": {
        "id": "Lyu6wW2BMt0f"
      },
      "source": [
        "## 10. Array Manipulation"
      ]
    },
    {
      "cell_type": "markdown",
      "metadata": {
        "id": "yJYyMfLWMt0f"
      },
      "source": [
        "### 10.1. Flattening"
      ]
    },
    {
      "cell_type": "code",
      "execution_count": null,
      "metadata": {
        "id": "C0OiUVZKMt0f"
      },
      "outputs": [],
      "source": [
        "a = np.array([[1,2,3],[4,5,6]])\n",
        "print(a)"
      ]
    },
    {
      "cell_type": "code",
      "execution_count": null,
      "metadata": {
        "id": "VlDro-z8Mt0g"
      },
      "outputs": [],
      "source": [
        "print(a.ravel())"
      ]
    },
    {
      "cell_type": "code",
      "execution_count": null,
      "metadata": {
        "id": "vVBKCg6uMt0g"
      },
      "outputs": [],
      "source": [
        "print(a.T)"
      ]
    },
    {
      "cell_type": "code",
      "execution_count": null,
      "metadata": {
        "id": "14b-_quSMt0g"
      },
      "outputs": [],
      "source": [
        "print(a.T.ravel())"
      ]
    },
    {
      "cell_type": "markdown",
      "metadata": {
        "id": "NdigpqYLMt0h"
      },
      "source": [
        "### 10.2. Reshaping"
      ]
    },
    {
      "cell_type": "code",
      "execution_count": null,
      "metadata": {
        "id": "MyvgF2zSMt0h"
      },
      "outputs": [],
      "source": [
        "print(a.shape)"
      ]
    },
    {
      "cell_type": "code",
      "execution_count": null,
      "metadata": {
        "id": "vc0w_s2oMt0h"
      },
      "outputs": [],
      "source": [
        "b = a.ravel()\n",
        "print(b.shape)"
      ]
    },
    {
      "cell_type": "code",
      "execution_count": null,
      "metadata": {
        "id": "rhVItu0QMt0i"
      },
      "outputs": [],
      "source": [
        "b = b.reshape(2,3)\n",
        "print(b.shape)"
      ]
    },
    {
      "cell_type": "markdown",
      "metadata": {
        "id": "JhQIroj3Mt0i"
      },
      "source": [
        "### 10.3. Adding a new dimension"
      ]
    },
    {
      "cell_type": "code",
      "execution_count": null,
      "metadata": {
        "id": "BQ7l_tchMt0j"
      },
      "outputs": [],
      "source": [
        "z = np.arange(1,10,2)\n",
        "print(z.shape)"
      ]
    },
    {
      "cell_type": "code",
      "execution_count": null,
      "metadata": {
        "id": "GYhpca10Mt0j"
      },
      "outputs": [],
      "source": [
        "z = z[:,np.newaxis]\n",
        "print(z.shape)"
      ]
    },
    {
      "cell_type": "code",
      "execution_count": null,
      "metadata": {
        "id": "iKl-i2-pMt0j"
      },
      "outputs": [],
      "source": [
        "z = z[:,np.newaxis]\n",
        "print(z.shape)"
      ]
    },
    {
      "cell_type": "markdown",
      "metadata": {
        "id": "3edTHQ4tMt0k"
      },
      "source": [
        "### 10.4. Dimension Shuffling"
      ]
    },
    {
      "cell_type": "code",
      "execution_count": null,
      "metadata": {
        "id": "JO-jZ5zUMt0k"
      },
      "outputs": [],
      "source": [
        "a = np.arange(4*3*2)\n",
        "print(a)"
      ]
    },
    {
      "cell_type": "code",
      "execution_count": null,
      "metadata": {
        "id": "pAZfGIhZMt0l"
      },
      "outputs": [],
      "source": [
        "a = a.reshape(4,3,2) # 4 matrices of 3 rows and 2 columns each\n",
        "print(a)"
      ]
    },
    {
      "cell_type": "code",
      "execution_count": null,
      "metadata": {
        "id": "TLUwj4_9Mt0l"
      },
      "outputs": [],
      "source": [
        "a[3,1,1]"
      ]
    },
    {
      "cell_type": "markdown",
      "metadata": {
        "id": "Wq5B3igQMt0l"
      },
      "source": [
        "### 10.5. Resizing"
      ]
    },
    {
      "cell_type": "code",
      "execution_count": null,
      "metadata": {
        "id": "i6c1Rt2aMt0m"
      },
      "outputs": [],
      "source": [
        "a = np.arange(5)\n",
        "a.resize((10,))"
      ]
    },
    {
      "cell_type": "markdown",
      "metadata": {
        "id": "ohyByTysMt0m"
      },
      "source": [
        "### 10.6. Sorting"
      ]
    },
    {
      "cell_type": "code",
      "execution_count": null,
      "metadata": {
        "id": "2ULJcp83Mt0m"
      },
      "outputs": [],
      "source": [
        "a = np.array([[5,4,3],[2,1,9]])\n",
        "print(a)"
      ]
    },
    {
      "cell_type": "code",
      "execution_count": null,
      "metadata": {
        "id": "m2eOBTS7Mt0n"
      },
      "outputs": [],
      "source": [
        "b = np.sort(a, axis=1)\n",
        "print(b)"
      ]
    },
    {
      "cell_type": "code",
      "execution_count": null,
      "metadata": {
        "id": "DK-4u6dwMt0n"
      },
      "outputs": [],
      "source": [
        "c = np.sort(a, axis=0)\n",
        "print(c)"
      ]
    },
    {
      "cell_type": "code",
      "execution_count": null,
      "metadata": {
        "id": "1o_ClfrmMt0o"
      },
      "outputs": [],
      "source": [
        "d = a.ravel()\n",
        "print(d)"
      ]
    },
    {
      "cell_type": "code",
      "execution_count": null,
      "metadata": {
        "id": "tO_JeBeVMt0o"
      },
      "outputs": [],
      "source": [
        "print(np.sort(d))"
      ]
    },
    {
      "cell_type": "markdown",
      "metadata": {
        "id": "jjrCaKXRMt0p"
      },
      "source": [
        "## 11. Exercises  \n",
        "\n",
        "*(Type you code in the below cell)*"
      ]
    },
    {
      "cell_type": "markdown",
      "metadata": {
        "id": "u3orHzhiMt0p"
      },
      "source": [
        "1. **Write a NumPy program to convert a list of numeric value into a one-dimensional NumPy array.**\n",
        "\n",
        "*Expected Output:*\n",
        "\n",
        "Original List: [12.23, 13.32, 100, 36.32]\n",
        "\n",
        "One-dimensional NumPy array: [ 12.23 13.32 100. 36.32]\n"
      ]
    },
    {
      "cell_type": "code",
      "execution_count": null,
      "metadata": {
        "id": "GyfggJ-yMt0p"
      },
      "outputs": [],
      "source": []
    },
    {
      "cell_type": "markdown",
      "metadata": {
        "id": "gGAU8NCcMt0q"
      },
      "source": [
        "2. **Write a NumPy program to create a 3x3 matrix with values ranging from 2 to 10.**\n",
        "\n",
        "*Expected Output:*\n",
        "\n",
        "[[ 2 3 4]\n",
        "[ 5 6 7]\n",
        "[ 8 9 10]]"
      ]
    },
    {
      "cell_type": "code",
      "execution_count": null,
      "metadata": {
        "id": "vfaLWwwpMt0q"
      },
      "outputs": [],
      "source": []
    },
    {
      "cell_type": "markdown",
      "metadata": {
        "id": "DKf9GukKMt0q"
      },
      "source": [
        "3. *Write a NumPy program to sort an along the first, last axis of an array.**\n",
        "\n",
        "Sample array: [[2,5],[4,4]]\n",
        "    \n",
        "*Expected Output:*\n",
        "    \n",
        "Original array:\n",
        "[[4 6]\n",
        "[2 1]]\n",
        "\n",
        "Sort along the first axis:\n",
        "[[2 1]\n",
        "[4 6]]\n",
        "\n",
        "Sort along the last axis:\n",
        "[[1 2]\n",
        "[4 6]]"
      ]
    },
    {
      "cell_type": "code",
      "execution_count": null,
      "metadata": {
        "colab": {
          "base_uri": "https://localhost:8080/"
        },
        "id": "1MjM1NK5Mt0r",
        "outputId": "2a4f1f31-c12a-4633-c261-39a48de667a0"
      },
      "outputs": [
        {
          "output_type": "stream",
          "name": "stdout",
          "text": [
            "Original array: \n",
            "[[4 6]\n",
            " [2 1]]\n",
            "Sort along the first axis: \n",
            "[[2 1]\n",
            " [4 6]]\n",
            "Sort along the last axis: \n",
            "[[1 2]\n",
            " [4 6]]\n"
          ]
        }
      ],
      "source": [
        "import numpy as np\n",
        "a = np.array([[4, 6], [2, 1]])\n",
        "print(\"Original array: \")\n",
        "print(a)\n",
        "print(\"Sort along the first axis: \")\n",
        "x = np.sort(a, axis=0)\n",
        "print(x)\n",
        "print(\"Sort along the last axis: \")\n",
        "y = np.sort(x, axis=1)\n",
        "print(y)"
      ]
    },
    {
      "cell_type": "markdown",
      "metadata": {
        "id": "27RhEvO9Mt0r"
      },
      "source": [
        "4. **Write a NumPy program to create a contiguous flattened array.**\n",
        "\n",
        "*Expected Output:*\n",
        "\n",
        "Original array:\n",
        "[[10 20 30]\n",
        "[20 40 50]]\n",
        "\n",
        "New flattened array:\n",
        "[10 20 30 20 40 50]"
      ]
    },
    {
      "cell_type": "code",
      "execution_count": null,
      "metadata": {
        "id": "WMkP6ABRMt0r"
      },
      "outputs": [],
      "source": []
    },
    {
      "cell_type": "markdown",
      "metadata": {
        "id": "dK73cIjTMt0s"
      },
      "source": [
        " 5. **Write a NumPy program to display all the dates for the month of March, 2017.**\n",
        "\n",
        "*Expected Output:*\n",
        "\n",
        "March, 2017\n",
        "\n",
        "['2017-03-01' '2017-03-02' '2017-03-03' '2017-03-04' '2017-03-05'\n",
        "'2017-03-06' '2017-03-07' '2017-03-08' '2017-03-09' '2017-03-10'\n",
        "'2017-03-11' '2017-03-12' '2017-03-13' '2017-03-14' '2017-03-15'\n",
        "'2017-03-16' '2017-03-17' '2017-03-18' '2017-03-19' '2017-03-20'\n",
        "'2017-03-21' '2017-03-22' '2017-03-23' '2017-03-24' '2017-03-25'\n",
        "'2017-03-26' '2017-03-27' '2017-03-28' '2017-03-29' '2017-03-30'\n",
        "'2017-03-31']"
      ]
    },
    {
      "cell_type": "code",
      "execution_count": null,
      "metadata": {
        "id": "J_bMFZK8Mt0s"
      },
      "outputs": [],
      "source": []
    },
    {
      "cell_type": "markdown",
      "metadata": {
        "id": "hinJx5D_Mt0s"
      },
      "source": [
        " 6. **Write a NumPy program to generate six random integers between 10 and 30.**\n",
        "\n",
        "*Expected Output:*\n",
        "    \n",
        "[20 28 27 17 28 29]"
      ]
    },
    {
      "cell_type": "code",
      "execution_count": null,
      "metadata": {
        "id": "i7r_kM2BMt0t"
      },
      "outputs": [],
      "source": []
    },
    {
      "cell_type": "markdown",
      "metadata": {
        "id": "NoCsjLilMt0t"
      },
      "source": [
        "7. **Write a NumPy program to create a 5x5 array with random values and find the minimum and maximum values.**\n",
        "\n",
        "*Expected Output*\n",
        "\n",
        "Original Array:\n",
        "    \n",
        "[[ 0.96336355 0.12339131 0.20295196 0.37243578 0.88105252]\n",
        "[ 0.93228246 0.67470158 0.38103235 0.32242645 0.40610231]\n",
        "[ 0.3113495 0.31688 0.79189089 0.08676434 0.60829874]\n",
        "[ 0.30360149 0.94316317 0.98142491 0.77222542 0.51532195]\n",
        "[ 0.97392305 0.16669609 0.81377917 0.2165645 0.00121611]]\n",
        "\n",
        "Minimum and Maximum Values:\n",
        "    \n",
        "0.00121610921757 0.981424910368"
      ]
    },
    {
      "cell_type": "code",
      "execution_count": null,
      "metadata": {
        "id": "zCz4h8eVMt0u"
      },
      "outputs": [],
      "source": []
    },
    {
      "cell_type": "markdown",
      "metadata": {
        "id": "5bVs2HgDMt0u"
      },
      "source": [
        "8. **Write a NumPy program to get the powers of an array values element-wise.**\n",
        "\n",
        "Note: First array elements raised to powers from second array\n",
        "    \n",
        "*Expected Output:*\n",
        "    \n",
        "Original array\n",
        "\n",
        "[0 1 2 3 4 5 6]\n",
        "\n",
        "First array elements raised to powers from second array, element-wise:\n",
        "    \n",
        "[ 0 1 8 27 64 125 216]"
      ]
    },
    {
      "cell_type": "code",
      "execution_count": null,
      "metadata": {
        "id": "6zT0zxIJMt0u"
      },
      "outputs": [],
      "source": []
    },
    {
      "cell_type": "markdown",
      "metadata": {
        "id": "DZcUdPAkMt0v"
      },
      "source": [
        "9. **Write a NumPy program to create a structured array from given student name, height, class and their data types. Now sort the array on height.**\n",
        "\n",
        "*Expected Output:*\n",
        "\n",
        "Original array:\n",
        "\n",
        "[(b'James', 5, 48.5 ) (b'Nail', 6, 52.5 ) (b'Paul', 5, 42.1 )\n",
        "(b'Pit', 5, 40.11)]\n",
        "\n",
        "Sort by height\n",
        "\n",
        "[(b'Pit', 5, 40.11) (b'Paul', 5, 42.1 ) (b'James', 5, 48.5 )\n",
        "(b'Nail', 6, 52.5 )]"
      ]
    },
    {
      "cell_type": "code",
      "execution_count": null,
      "metadata": {
        "id": "-eizZmVbMt0v"
      },
      "outputs": [],
      "source": []
    },
    {
      "cell_type": "markdown",
      "metadata": {
        "id": "73zbBeJxMt0v"
      },
      "source": [
        "10. **Write a NumPy program to sort the student id with increasing height of the students from given students id and height. Print the integer indices that describes the sort order by multiple columns and the sorted data.**\n",
        "\n",
        "*Expected Output:*\n",
        "\n",
        "Sorted indices\n",
        "\n",
        "[4 0 5 3 6 1 2]\n",
        "\n",
        "Sorted data:\n",
        "\n",
        "1682 38.0\n",
        "1023 40.0\n",
        "5241 40.0\n",
        "1671 41.0\n",
        "4532 42.0\n",
        "5202 42.0\n",
        "6230 45.0"
      ]
    },
    {
      "cell_type": "code",
      "execution_count": null,
      "metadata": {
        "id": "xPzHYtakMt0w"
      },
      "outputs": [],
      "source": []
    }
  ],
  "metadata": {
    "kernelspec": {
      "display_name": "Python 3",
      "language": "python",
      "name": "python3"
    },
    "language_info": {
      "codemirror_mode": {
        "name": "ipython",
        "version": 3
      },
      "file_extension": ".py",
      "mimetype": "text/x-python",
      "name": "python",
      "nbconvert_exporter": "python",
      "pygments_lexer": "ipython3",
      "version": "3.8.3"
    },
    "colab": {
      "provenance": []
    }
  },
  "nbformat": 4,
  "nbformat_minor": 0
}